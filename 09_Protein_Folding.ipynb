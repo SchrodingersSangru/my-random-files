{
 "cells": [
  {
   "cell_type": "markdown",
   "id": "4d2ea6f4",
   "metadata": {},
   "source": [
    "# Protein Folding"
   ]
  },
  {
   "cell_type": "markdown",
   "id": "aa2fe29c",
   "metadata": {},
   "source": [
    "### Introduction"
   ]
  },
  {
   "cell_type": "markdown",
   "id": "ffa82037",
   "metadata": {},
   "source": [
    "The structure and function of many natural and human-engineered\n",
    "proteins is still only poorly understood. As a result, our understanding of\n",
    "processes connected with protein folding, such as those encountered in\n",
    "Alzheimer’s disease, vaccine development, and crop improvement\n",
    "research, has remained limited.\n",
    "\n",
    "Unfolded polypeptides have a very large number of degrees of freedom\n",
    "and thus an enormous number of potential conformations. For example, a\n",
    "chain with $100$ aminoacids has on the order of $10^{47}$ conformations. In\n",
    "reality, however, many proteins fold to their native structure within\n",
    "seconds. This is known as Levinthal’s paradox [1].\n",
    "\n",
    "The exponential growth of potential conformations with chain length\n",
    "makes the problem intractable for classical computers. In the quantum\n",
    "framework, our resource-efficient algorithm scales linearly with\n",
    "the number of aminoacids N."
   ]
  },
  {
   "cell_type": "markdown",
   "id": "58f24401",
   "metadata": {},
   "source": [
    "The goal of this work is to determine the minimum energy conformation of a protein. Starting from a random configuration, the protein's structure is optimized to lower the energy. This can be achieved by encoding the protein folding problem into a qubit operator and ensuring that all physical constraints are satisfied. "
   ]
  },
  {
   "cell_type": "markdown",
   "id": "76928cec",
   "metadata": {},
   "source": [
    "For the problem encoding we use: \n",
    "\n",
    "- Configuration qubits: qubits that are used to describe the configurations and the relative position of the different beads\n",
    "\n",
    "- Interaction qubits: qubits that encode interactions between the different aminoacids\n",
    "\n",
    "For our case we use a tetrahedral lattice (diamond shape lattice) where we encode the movement through the configuration qubits (see image below). \n",
    "\n",
    "<img src=\"aux_files/lattice_protein.png\" width=\"300\">"
   ]
  },
  {
   "cell_type": "markdown",
   "id": "50dc1324",
   "metadata": {},
   "source": [
    "The Hamiltonian of the system for a set of qubits $\\mathbf{q}=\\{\\mathbf{q}_{cf}, \\mathbf{q}_{in}\\}$ is \n",
    "\n",
    "$$H(\\mathbf{q}) = H_{gc}(\\mathbf{q}_{cf}) + H_{ch}(\\mathbf{q}_{cf}) + H_{in}(\\mathbf{q}_{cf}, \\mathbf{q}_{in}) $$\n",
    "\n",
    "where \n",
    "\n",
    "- $H_{gc}$ is the geometrical constraint term (governing the growth of the primary sequence of aminoacids without bifurcations)\n",
    "\n",
    "- $H_{ch}$ is the chirality constraint (enforcing the right stereochemistry for the system)\n",
    "\n",
    "- $H_{in}$ is the interaction energy terms of the system. In our case we consider only nearest neighbor interactions. "
   ]
  },
  {
   "cell_type": "markdown",
   "id": "0d7f4dbb",
   "metadata": {},
   "source": [
    "Further details about the used model and the encoding of the problem can be found in [2]."
   ]
  },
  {
   "cell_type": "code",
   "execution_count": 1,
   "id": "4a022975",
   "metadata": {},
   "outputs": [],
   "source": [
    "from qiskit_nature.problems.sampling.protein_folding.interactions.random_interaction import (\n",
    "    RandomInteraction,\n",
    ")\n",
    "from qiskit_nature.problems.sampling.protein_folding.interactions.miyazawa_jernigan_interaction import (\n",
    "    MiyazawaJerniganInteraction,\n",
    ")\n",
    "from qiskit_nature.problems.sampling.protein_folding.peptide.peptide import Peptide\n",
    "from qiskit_nature.problems.sampling.protein_folding.protein_folding_problem import (\n",
    "    ProteinFoldingProblem,\n",
    ")\n",
    "\n",
    "from qiskit_nature.problems.sampling.protein_folding.penalty_parameters import PenaltyParameters\n",
    "\n",
    "from qiskit.utils import algorithm_globals, QuantumInstance\n",
    "\n",
    "algorithm_globals.random_seed = 23"
   ]
  },
  {
   "cell_type": "markdown",
   "id": "51e540f5",
   "metadata": {},
   "source": [
    "### Protein Main Chain"
   ]
  },
  {
   "cell_type": "markdown",
   "id": "15a69286",
   "metadata": {},
   "source": [
    "The Protein consists of a main chain that is a linear chain of aminoacids. For the naming of different residues we use the one-letter code as defined in Ref. [3]. Further details about the naming and the type of aminoacids can also be found in [4].\n",
    "\n",
    "For this particular case we demonstrate the generation of the qubit operator in a neuropeptide with the main chain consisting of 7 aminoacids with letter codes APRLRFY (see also [2])."
   ]
  },
  {
   "cell_type": "code",
   "execution_count": 2,
   "id": "b78d077a",
   "metadata": {},
   "outputs": [],
   "source": [
    "main_chain = \"APRLRFY\""
   ]
  },
  {
   "cell_type": "markdown",
   "id": "2b28a00e",
   "metadata": {},
   "source": [
    "### Side Chains"
   ]
  },
  {
   "cell_type": "markdown",
   "id": "b99c81a8",
   "metadata": {},
   "source": [
    "Beyond the main chain of the protein there may be aminoacids attached to the residues of the main chain. Our model allows for side chains of the maximum length of one. Elongated side chains would require the introduction of additional penalty terms which are still under development. In this example we do not consider any side chains to keep the real structure of the neuropeptide. "
   ]
  },
  {
   "cell_type": "code",
   "execution_count": 3,
   "id": "f0cea914",
   "metadata": {},
   "outputs": [],
   "source": [
    "side_chains = [\"\"] * 7"
   ]
  },
  {
   "cell_type": "markdown",
   "id": "203e288b",
   "metadata": {},
   "source": [
    "### Interaction between Aminoacids"
   ]
  },
  {
   "cell_type": "markdown",
   "id": "72ff748d",
   "metadata": {},
   "source": [
    "For the description of inter-residue contacts for proteins we use knowledge-based (statistical) potentials derived using quasi-chemical approximation. The potentials used here are introduced by Miyazawa, S. and Jernigan, R. L. in [5]. \n",
    "\n",
    "Beyond this model we also allow for random contact maps (interactions) that provide a random interaction map. One can also introduce a custom interaction map that enhances certain configurations of the protein (e.g. alpha helix, beta sheet etc). "
   ]
  },
  {
   "cell_type": "code",
   "execution_count": 4,
   "id": "cca5df13",
   "metadata": {},
   "outputs": [],
   "source": [
    "random_interaction = RandomInteraction()\n",
    "mj_interaction = MiyazawaJerniganInteraction()"
   ]
  },
  {
   "cell_type": "markdown",
   "id": "bb5c3ec8",
   "metadata": {},
   "source": [
    "### Physical Constraints"
   ]
  },
  {
   "cell_type": "markdown",
   "id": "5adb4c73",
   "metadata": {},
   "source": [
    "To ensure that all physical constraints are respected we introduce penalty functions. The different penalty terms used are: \n",
    "\n",
    "- penalty_chiral: A penalty parameter used to impose the right chirality.\n",
    "\n",
    "- penalty_back: A penalty parameter used to penalize turns along the same axis. This term is used to eliminate sequences where the same axis is chosen twice in a row. In this way we do not allow for a chain to fold back into itself.\n",
    "\n",
    "- penalty_1: A penalty parameter used to penalize local overlap between beads within a nearest neighbor contact."
   ]
  },
  {
   "cell_type": "code",
   "execution_count": 5,
   "id": "d96678c3",
   "metadata": {},
   "outputs": [],
   "source": [
    "penalty_back = 10\n",
    "penalty_chiral = 10\n",
    "penalty_1 = 10\n",
    "\n",
    "penalty_terms = PenaltyParameters(penalty_chiral, penalty_back, penalty_1)"
   ]
  },
  {
   "cell_type": "markdown",
   "id": "29807064",
   "metadata": {},
   "source": [
    "### Peptide Definition\n"
   ]
  },
  {
   "cell_type": "markdown",
   "id": "3eafb4dd",
   "metadata": {},
   "source": [
    "Based on the main chain and possible side chains we define the peptide object that includes all the structural information of the modeled system."
   ]
  },
  {
   "cell_type": "code",
   "execution_count": 6,
   "id": "94b24aec",
   "metadata": {},
   "outputs": [],
   "source": [
    "peptide = Peptide(main_chain, side_chains)"
   ]
  },
  {
   "cell_type": "markdown",
   "id": "48deb63f",
   "metadata": {},
   "source": [
    "### Protein Folding Problem "
   ]
  },
  {
   "cell_type": "markdown",
   "id": "729f35c0",
   "metadata": {},
   "source": [
    "Based on the defined peptide, the interaction (contact map) and the penalty terms we defined for our model we define the protein folding problem that returns qubit operators.\n"
   ]
  },
  {
   "cell_type": "code",
   "execution_count": 7,
   "id": "8d0408ed",
   "metadata": {},
   "outputs": [],
   "source": [
    "protein_folding_problem = ProteinFoldingProblem(peptide, mj_interaction, penalty_terms)\n",
    "qubit_op = protein_folding_problem.qubit_op()"
   ]
  },
  {
   "cell_type": "code",
   "execution_count": 8,
   "id": "29860ed3",
   "metadata": {
    "scrolled": true
   },
   "outputs": [
    {
     "name": "stdout",
     "output_type": "stream",
     "text": [
      "1613.5895000000003 * IIIIIIIII\n",
      "- 701.802 * ZIIIIIIII\n",
      "- 904.2875 * IZIIIIIII\n",
      "+ 192.5 * IIZIIIIII\n",
      "- 200.0 * ZIZIIIIII\n",
      "+ 7.5 * IZZIIIIII\n",
      "+ 105.0 * IIIZIIIII\n",
      "- 105.0 * ZIIZIIIII\n",
      "+ 95.0 * IIZZIIIII\n",
      "- 100.0 * ZIZZIIIII\n",
      "+ 5.0 * IZZZIIIII\n",
      "- 497.5 * IIIIZIIII\n",
      "+ 195.0 * ZIIIZIIII\n",
      "+ 302.5 * IZIIZIIII\n",
      "- 95.0 * IIZIZIIII\n",
      "+ 100.0 * ZIZIZIIII\n",
      "- 2.5 * IZZIZIIII\n",
      "- 100.0 * IIIIIZIII\n",
      "+ 102.5 * ZIIIIZIII\n",
      "- 2.5 * IZIIIZIII\n",
      "- 95.0 * IIIZIZIII\n",
      "+ 100.0 * ZIIZIZIII\n",
      "- 2.5 * IZIZIZIII\n",
      "- 300.0 * IIIIZZIII\n",
      "+ 97.5 * ZIIIZZIII\n",
      "+ 202.5 * IZIIZZIII\n",
      "- 95.0 * IIZZZZIII\n",
      "+ 100.0 * ZIZZZZIII\n",
      "- 2.5 * IZZZZZIII\n",
      "+ 487.5 * IIIIIIZII\n",
      "- 195.0 * ZIIIIIZII\n",
      "- 295.0 * IZIIIIZII\n",
      "+ 97.5 * IIZIIIZII\n",
      "- 100.0 * ZIZIIIZII\n",
      "+ 2.5 * IZZIIIZII\n",
      "- 195.0 * IIIIZIZII\n",
      "+ 97.5 * ZIIIZIZII\n",
      "+ 100.0 * IZIIZIZII\n",
      "+ 100.0 * IIIIIIIZI\n",
      "- 102.5 * ZIIIIIIZI\n",
      "+ 2.5 * IZIIIIIZI\n",
      "+ 97.5 * IIIZIIIZI\n",
      "- 100.0 * ZIIZIIIZI\n",
      "+ 2.5 * IZIZIIIZI\n",
      "- 195.0 * IIIIIZIZI\n",
      "+ 97.5 * ZIIIIZIZI\n",
      "+ 100.0 * IZIIIZIZI\n",
      "+ 295.0 * IIIIIIZZI\n",
      "- 97.5 * ZIIIIIZZI\n",
      "- 197.5 * IZIIIIZZI\n",
      "+ 97.5 * IIZZIIZZI\n",
      "- 100.0 * ZIZZIIZZI\n",
      "+ 2.5 * IZZZIIZZI\n",
      "- 195.0 * IIIIZZZZI\n",
      "+ 97.5 * ZIIIZZZZI\n",
      "+ 100.0 * IZIIZZZZI\n",
      "+ 195.0 * IIIIIIIIZ\n",
      "+ 5.0 * ZIIIIIIIZ\n",
      "- 200.0 * IZIIIIIIZ\n",
      "- 97.5 * IIIZIIIIZ\n",
      "+ 100.0 * ZIIZIIIIZ\n",
      "- 2.5 * IZIZIIIIZ\n",
      "+ 97.5 * IIZZIIIIZ\n",
      "- 100.0 * ZIZZIIIIZ\n",
      "+ 2.5 * IZZZIIIIZ\n",
      "+ 197.5 * IIIIIZIIZ\n",
      "- 97.5 * ZIIIIZIIZ\n",
      "- 100.0 * IZIIIZIIZ\n",
      "- 197.5 * IIIIZZIIZ\n",
      "+ 97.5 * ZIIIZZIIZ\n",
      "+ 100.0 * IZIIZZIIZ\n",
      "- 192.5 * IIIIIIIZZ\n",
      "+ 97.5 * ZIIIIIIZZ\n",
      "+ 97.5 * IZIIIIIZZ\n",
      "+ 192.5 * IIIIIIZZZ\n",
      "- 97.5 * ZIIIIIZZZ\n",
      "- 97.5 * IZIIIIZZZ\n"
     ]
    }
   ],
   "source": [
    "print(qubit_op)"
   ]
  },
  {
   "cell_type": "markdown",
   "id": "441ccc74",
   "metadata": {},
   "source": [
    "### Using VQE with CVaR expectation value for the solution of the problem"
   ]
  },
  {
   "cell_type": "markdown",
   "id": "e99e05de",
   "metadata": {},
   "source": [
    "The problem that we are tackling has now implemented all the physical constraints and has a diagonal Hamiltonian. For the particular case we are targeting the single bitstring that gives us the minimum energy (corresponding to the folded structure of the protein). Thus, we can use the Variational Quantum Eigensolver with Conditional Value at Risk (CVaR) expectation values for the solution of the problem and for finding the minimum configuration energy [6] . We follow the same approach as in Ref. [2] but here we use COBYLA for the classical optimization part. One can also use the standard VQE or QAOA algorithm for the solution of the problem, though as discussed in Ref. [2] CVaR is more suitable. "
   ]
  },
  {
   "cell_type": "markdown",
   "id": "01233729",
   "metadata": {},
   "source": [
    "## what I did is.."
   ]
  },
  {
   "cell_type": "markdown",
   "id": "a5eb90a0",
   "metadata": {},
   "source": [
    "#### I just did is, I made the complete process with for loop. \n",
    "#### So the outer bound will be maxiter condition. \n",
    "#### For every iterations it will pass the output value to the nexxt function, and raw energy will be calcuated for that perticular iteration. \n",
    "#### If you want to get the values for next steps, store these iterations output in the file. \n",
    "#### read the file, and feed that as a input to the next steps. "
   ]
  },
  {
   "cell_type": "code",
   "execution_count": 9,
   "id": "5eb95499",
   "metadata": {
    "scrolled": true
   },
   "outputs": [],
   "source": [
    "# from qiskit.circuit.library import RealAmplitudes\n",
    "# from qiskit.algorithms.optimizers import COBYLA, SPSA\n",
    "\n",
    "# from qiskit.algorithms import NumPyMinimumEigensolver, VQE\n",
    "# from qiskit.opflow import PauliExpectation, CVaRExpectation\n",
    "# from qiskit import execute, Aer\n",
    "# import numpy as np \n",
    "\n",
    "# converge_cnts = (np.empty)\n",
    "# converge_vals = (np.empty)\n",
    "# # set classical optimizer\n",
    "\n",
    "\n",
    "# backend_name = \"aer_simulator\"\n",
    "# backend = QuantumInstance(\n",
    "#     Aer.get_backend(backend_name),\n",
    "#     shots=8192,\n",
    "#     seed_transpiler=algorithm_globals.random_seed,\n",
    "#     seed_simulator=algorithm_globals.random_seed,\n",
    "# )\n",
    "\n",
    "\n",
    "# maxiter = 20\n",
    "# ansatz = RealAmplitudes(reps=1)\n",
    "\n",
    "# # set the backend\n",
    "\n",
    "# # optimizer = SPSA(maxiter=i)\n",
    "# optimizer = COBYLA(maxiter=maxiter, options={'disp': True} )\n",
    "\n",
    "# # set variational ansatz\n",
    "\n",
    "\n",
    "\n",
    "# counts = []\n",
    "# values = []\n",
    "\n",
    "\n",
    "# def store_intermediate_result(eval_count, parameters, mean, std):\n",
    "#     counts.append(eval_count)\n",
    "#     values.append(mean)\n",
    "#     mean +=1 \n",
    "\n",
    "\n",
    "# def store_intermediate_results_iter():\n",
    "    \n",
    "#     pass\n",
    "        \n",
    "    \n",
    "# # initialize CVaR_alpha objective with alpha = 0.1\n",
    "# cvar_exp = CVaRExpectation(0.1, PauliExpectation())\n",
    "\n",
    "# # initialize VQE using CVaR\n",
    "# vqe = VQE(\n",
    "#     expectation=cvar_exp,\n",
    "#     optimizer=optimizer,\n",
    "#     ansatz=ansatz,\n",
    "#     quantum_instance=backend,\n",
    "#     callback=(store_intermediate_result) \n",
    "# )\n",
    "\n",
    "# raw_result = vqe.compute_minimum_eigenvalue(qubit_op)\n",
    "# print(raw_result)\n",
    "# converge_cnts[i] = np.asarray(counts)\n",
    "# converge_vals[i] = np.asarray(values)\n",
    "# print(\"\\n \\n  \\n\")"
   ]
  },
  {
   "cell_type": "code",
   "execution_count": 10,
   "id": "99b220e0",
   "metadata": {},
   "outputs": [
    {
     "name": "stdout",
     "output_type": "stream",
     "text": [
      "[466.2178439941402]\n",
      "[1]\n",
      "\n",
      " \n",
      "\n",
      "[466.2178439941402, 466.2178439941402]\n",
      "[1, 2]\n",
      "\n",
      " \n",
      "\n",
      "[466.2178439941402, 466.2178439941402, 466.2178439941402]\n",
      "[1, 2, 3]\n",
      "\n",
      " \n",
      "\n",
      "[466.2178439941402, 466.2178439941402, 466.2178439941402, 466.2178439941402]\n",
      "[1, 2, 3, 4]\n",
      "\n",
      " \n",
      "\n",
      "[466.2178439941402, 466.2178439941402, 466.2178439941402, 466.2178439941402, 466.2178439941402]\n",
      "[1, 2, 3, 4, 5]\n",
      "\n",
      " \n",
      "\n",
      "[466.2178439941402, 466.2178439941402, 466.2178439941402, 466.2178439941402, 466.2178439941402, 466.2178439941402]\n",
      "[1, 2, 3, 4, 5, 6]\n",
      "\n",
      " \n",
      "\n",
      "[466.2178439941402, 466.2178439941402, 466.2178439941402, 466.2178439941402, 466.2178439941402, 466.2178439941402, 466.2178439941402]\n",
      "[1, 2, 3, 4, 5, 6, 7]\n",
      "\n",
      " \n",
      "\n",
      "[466.2178439941402, 466.2178439941402, 466.2178439941402, 466.2178439941402, 466.2178439941402, 466.2178439941402, 466.2178439941402, 466.2178439941402]\n",
      "[1, 2, 3, 4, 5, 6, 7, 8]\n",
      "\n",
      " \n",
      "\n",
      "[466.2178439941402, 466.2178439941402, 466.2178439941402, 466.2178439941402, 466.2178439941402, 466.2178439941402, 466.2178439941402, 466.2178439941402, 466.2178439941402]\n",
      "[1, 2, 3, 4, 5, 6, 7, 8, 9]\n",
      "\n",
      " \n",
      "\n",
      "[466.2178439941402, 466.2178439941402, 466.2178439941402, 466.2178439941402, 466.2178439941402, 466.2178439941402, 466.2178439941402, 466.2178439941402, 466.2178439941402, 466.2178439941402]\n",
      "[1, 2, 3, 4, 5, 6, 7, 8, 9, 10]\n",
      "\n",
      " \n",
      "\n",
      "[466.2178439941402, 466.2178439941402, 466.2178439941402, 466.2178439941402, 466.2178439941402, 466.2178439941402, 466.2178439941402, 466.2178439941402, 466.2178439941402, 466.2178439941402, 466.2178439941402]\n",
      "[1, 2, 3, 4, 5, 6, 7, 8, 9, 10, 11]\n",
      "\n",
      " \n",
      "\n",
      "[466.2178439941402, 466.2178439941402, 466.2178439941402, 466.2178439941402, 466.2178439941402, 466.2178439941402, 466.2178439941402, 466.2178439941402, 466.2178439941402, 466.2178439941402, 466.2178439941402, 466.2178439941402]\n",
      "[1, 2, 3, 4, 5, 6, 7, 8, 9, 10, 11, 12]\n",
      "\n",
      " \n",
      "\n",
      "[466.2178439941402, 466.2178439941402, 466.2178439941402, 466.2178439941402, 466.2178439941402, 466.2178439941402, 466.2178439941402, 466.2178439941402, 466.2178439941402, 466.2178439941402, 466.2178439941402, 466.2178439941402, 466.2178439941402]\n",
      "[1, 2, 3, 4, 5, 6, 7, 8, 9, 10, 11, 12, 13]\n",
      "\n",
      " \n",
      "\n",
      "[466.2178439941402, 466.2178439941402, 466.2178439941402, 466.2178439941402, 466.2178439941402, 466.2178439941402, 466.2178439941402, 466.2178439941402, 466.2178439941402, 466.2178439941402, 466.2178439941402, 466.2178439941402, 466.2178439941402, 466.2178439941402]\n",
      "[1, 2, 3, 4, 5, 6, 7, 8, 9, 10, 11, 12, 13, 14]\n",
      "\n",
      " \n",
      "\n",
      "[466.2178439941402, 466.2178439941402, 466.2178439941402, 466.2178439941402, 466.2178439941402, 466.2178439941402, 466.2178439941402, 466.2178439941402, 466.2178439941402, 466.2178439941402, 466.2178439941402, 466.2178439941402, 466.2178439941402, 466.2178439941402, 466.2178439941402]\n",
      "[1, 2, 3, 4, 5, 6, 7, 8, 9, 10, 11, 12, 13, 14, 15]\n",
      "\n",
      " \n",
      "\n",
      "[466.2178439941402, 466.2178439941402, 466.2178439941402, 466.2178439941402, 466.2178439941402, 466.2178439941402, 466.2178439941402, 466.2178439941402, 466.2178439941402, 466.2178439941402, 466.2178439941402, 466.2178439941402, 466.2178439941402, 466.2178439941402, 466.2178439941402, 466.2178439941402]\n",
      "[1, 2, 3, 4, 5, 6, 7, 8, 9, 10, 11, 12, 13, 14, 15, 16]\n",
      "\n",
      " \n",
      "\n",
      "[466.2178439941402, 466.2178439941402, 466.2178439941402, 466.2178439941402, 466.2178439941402, 466.2178439941402, 466.2178439941402, 466.2178439941402, 466.2178439941402, 466.2178439941402, 466.2178439941402, 466.2178439941402, 466.2178439941402, 466.2178439941402, 466.2178439941402, 466.2178439941402, 466.2178439941402]\n",
      "[1, 2, 3, 4, 5, 6, 7, 8, 9, 10, 11, 12, 13, 14, 15, 16, 17]\n",
      "\n",
      " \n",
      "\n",
      "[466.2178439941402, 466.2178439941402, 466.2178439941402, 466.2178439941402, 466.2178439941402, 466.2178439941402, 466.2178439941402, 466.2178439941402, 466.2178439941402, 466.2178439941402, 466.2178439941402, 466.2178439941402, 466.2178439941402, 466.2178439941402, 466.2178439941402, 466.2178439941402, 466.2178439941402, 466.2178439941402]\n",
      "[1, 2, 3, 4, 5, 6, 7, 8, 9, 10, 11, 12, 13, 14, 15, 16, 17, 18]\n",
      "\n",
      " \n",
      "\n",
      "[466.2178439941402, 466.2178439941402, 466.2178439941402, 466.2178439941402, 466.2178439941402, 466.2178439941402, 466.2178439941402, 466.2178439941402, 466.2178439941402, 466.2178439941402, 466.2178439941402, 466.2178439941402, 466.2178439941402, 466.2178439941402, 466.2178439941402, 466.2178439941402, 466.2178439941402, 466.2178439941402, 466.2178439941402]\n",
      "[1, 2, 3, 4, 5, 6, 7, 8, 9, 10, 11, 12, 13, 14, 15, 16, 17, 18, 19]\n",
      "\n",
      " \n",
      "\n",
      "{   'aux_operator_eigenvalues': None,\n",
      "    'cost_function_evals': 19,\n",
      "    'eigenstate': None,\n",
      "    'eigenvalue': (466.2178439941402+0j),\n",
      "    'optimal_parameters': {   ParameterVectorElement(θ[8]): 1.360841402195895,\n",
      "                              ParameterVectorElement(θ[9]): -0.18409939874633396,\n",
      "                              ParameterVectorElement(θ[10]): -0.5326763197693336,\n",
      "                              ParameterVectorElement(θ[11]): -0.9478322969540387,\n",
      "                              ParameterVectorElement(θ[12]): -2.740387690029075,\n",
      "                              ParameterVectorElement(θ[13]): -0.2848408802626148,\n",
      "                              ParameterVectorElement(θ[14]): -1.2475058364079998,\n",
      "                              ParameterVectorElement(θ[15]): -0.6969513139491474,\n",
      "                              ParameterVectorElement(θ[16]): 0.25319866634679444,\n",
      "                              ParameterVectorElement(θ[17]): 1.1535280557777838,\n",
      "                              ParameterVectorElement(θ[0]): 1.218517482962425,\n",
      "                              ParameterVectorElement(θ[1]): 0.8888082150018626,\n",
      "                              ParameterVectorElement(θ[2]): -2.3332971535037066,\n",
      "                              ParameterVectorElement(θ[3]): -2.4271439036965847,\n",
      "                              ParameterVectorElement(θ[4]): 0.9634983265712727,\n",
      "                              ParameterVectorElement(θ[5]): 2.2208364949185153,\n",
      "                              ParameterVectorElement(θ[6]): -1.8737769607784178,\n",
      "                              ParameterVectorElement(θ[7]): -1.7717411563613783},\n",
      "    'optimal_point': array([ 1.21851748,  0.88880822, -2.33329715, -2.4271439 ,  0.96349833,\n",
      "        2.22083649, -1.87377696, -1.77174116,  1.3608414 , -0.1840994 ,\n",
      "       -0.53267632, -0.9478323 , -2.74038769, -0.28484088, -1.24750584,\n",
      "       -0.69695131,  0.25319867,  1.15352806]),\n",
      "    'optimal_value': 466.2178439941402,\n",
      "    'optimizer_evals': None,\n",
      "    'optimizer_time': 10.10879111289978}\n",
      "\n",
      " \n",
      "  \n",
      "\n"
     ]
    }
   ],
   "source": [
    "from gc import callbacks\n",
    "from typing import Optional\n",
    "from qiskit.circuit.library import RealAmplitudes\n",
    "from qiskit.algorithms.optimizers import COBYLA, SLSQP\n",
    "\n",
    "from qiskit.algorithms import NumPyMinimumEigensolver, VQE\n",
    "from qiskit.opflow import PauliExpectation, CVaRExpectation\n",
    "from qiskit import execute, Aer\n",
    "\n",
    "import numpy as np \n",
    "maxiter = 50\n",
    "optimizer = COBYLA(maxiter=maxiter, options={'display': True} )\n",
    "\n",
    "# set variational ansatz\n",
    "ansatz = RealAmplitudes(reps=1)\n",
    "\n",
    "# set the backend\n",
    "backend_name = \"aer_simulator\"\n",
    "backend = QuantumInstance(\n",
    "    Aer.get_backend(backend_name),\n",
    "    shots=8192,\n",
    "    seed_transpiler=algorithm_globals.random_seed,\n",
    "    seed_simulator=algorithm_globals.random_seed,\n",
    ")\n",
    "\n",
    "counts = []\n",
    "values = []\n",
    "para = []\n",
    "\n",
    "def store_intermediate_result(eval_count, parameters, mean, std):\n",
    "    counts.append(eval_count)\n",
    "    values.append(mean) \n",
    "    ## printing the number of iterations and it's respective values\n",
    "    print(values)\n",
    "    print(counts)\n",
    "    print(\"\\n \\n\")\n",
    "\n",
    "\n",
    "    \n",
    "# initialize CVaR_alpha objective with alpha = 0.1\n",
    "cvar_exp = CVaRExpectation(0.1, PauliExpectation())\n",
    "\n",
    "# initialize VQE using CVaR\n",
    "vqe = VQE(\n",
    "    expectation=cvar_exp,\n",
    "    ansatz=ansatz,\n",
    "    quantum_instance=backend,\n",
    "    callback=(store_intermediate_result),\n",
    "    )\n",
    "\n",
    "raw_result= vqe.compute_minimum_eigenvalue(operator = qubit_op)\n",
    "print(raw_result)\n",
    "\n",
    "print(\"\\n \\n  \\n\")"
   ]
  },
  {
   "cell_type": "code",
   "execution_count": 11,
   "id": "fe051e3f",
   "metadata": {},
   "outputs": [
    {
     "name": "stdout",
     "output_type": "stream",
     "text": [
      "Optimizer: COBYLA        [ 1  2  3  4  5  6  7  8  9 10 11 12 13 14 15 16 17 18 19 20 21 22 23 24\n",
      " 25 26 27 28 29 30 31 32 33 34 35 36 37 38 39 40 41 42 43 44 45 46 47 48\n",
      " 49 50 51 52 53 54 55 56 57 58 59 60 61 62 63 64 65 66 67 68 69 70 71 72\n",
      " 73 74 75 76 77 78 79 80]\n",
      "[2260.08810071 2331.6872218  1890.62154797 2294.01998547 2132.82735852\n",
      " 1557.76144055 1574.72799329 1229.43673047  843.80633984 1263.7443479\n",
      "  594.55096875  580.92792187  522.929875    628.09955273  648.68304883\n",
      "  583.02386914  583.16669141  386.9398512   673.57805359  154.6664668\n",
      "  119.29376868  121.90485266   73.85617004   73.4496759   113.86025562\n",
      "   73.07300659  213.70330139  178.34485364   58.46246924   68.36481299\n",
      "   79.6491355    55.8709165    92.29572034   56.20905127   61.85535803\n",
      "   54.990901    137.77897498   32.57347156   35.57997339   41.77352246\n",
      "   89.28168896   38.38130017  150.15777405   98.27155212   30.84304346\n",
      "   36.41287085   33.42587732   36.04861572   33.05093994   29.68281226\n",
      "   27.02374097   35.35581421   36.22000989   39.63507703   28.80581689\n",
      "   65.50747668   31.13270471   23.56404468   22.06112805   33.64144897\n",
      "   23.80292029   40.78182849   28.43410791   24.40005432   26.24160107\n",
      "   22.25989844   27.53292908   24.9387832    20.56562805   23.16556445\n",
      "   18.94552026   25.5551073    14.5578999    13.94598279   13.31355176\n",
      "   12.57309717   12.03044556   11.524724     16.1859043    12.41710352]\n",
      "Optimizer: SLSQP        [ 1  2  3  4  5  6  7  8  9 10 11 12 13 14 15 16 17 18 19]\n",
      "[2260.08810071 2260.08810071 2260.08810071 2260.08810071 2260.08810071\n",
      " 2260.08810071 2260.08810071 2260.08810071 2260.08810071 2260.08810071\n",
      " 2260.08810071 2260.08810071 2260.08810071 2260.08810071 2260.08810071\n",
      " 2260.08810071 2260.08810071 2260.08810071 2260.08810071]\n",
      "Optimization complete      \n"
     ]
    }
   ],
   "source": [
    "optimizers = [COBYLA(maxiter=80), SLSQP(maxiter=60)]\n",
    "converge_cnts = np.empty([len(optimizers)], dtype=object)\n",
    "converge_vals = np.empty([len(optimizers)], dtype=object)\n",
    "\n",
    "for i, optimizer in enumerate(optimizers):\n",
    "    print('\\rOptimizer: {}        '.format(type(optimizer).__name__), end='')\n",
    "    algorithm_globals.random_seed = 50\n",
    "    # ansatz = TwoLocal(rotation_blocks='ry', entanglement_blocks='cz')\n",
    "    ansatz = RealAmplitudes(reps=1)\n",
    "\n",
    "    counts = []\n",
    "    values = []\n",
    "    def store_intermediate_result(eval_count, parameters, mean, std):\n",
    "        counts.append(eval_count)\n",
    "        values.append(mean)\n",
    "\n",
    "    backend_name = \"aer_simulator\"\n",
    "    backend = QuantumInstance(\n",
    "    Aer.get_backend(backend_name),\n",
    "    shots=8192,\n",
    "    seed_transpiler=algorithm_globals.random_seed,\n",
    "    seed_simulator=algorithm_globals.random_seed,\n",
    "    )\n",
    "    \n",
    "    vqe = VQE(ansatz, optimizer, callback=store_intermediate_result,\n",
    "              quantum_instance=backend)\n",
    "    result = vqe.compute_minimum_eigenvalue(operator=qubit_op)\n",
    "    converge_cnts[i] = np.asarray(counts)\n",
    "    converge_vals[i] = np.asarray(values)\n",
    "    print(converge_cnts[i])\n",
    "    print(converge_vals[i])\n",
    "    \n",
    "print('\\rOptimization complete      ');"
   ]
  },
  {
   "cell_type": "code",
   "execution_count": 12,
   "id": "c452ba68",
   "metadata": {},
   "outputs": [
    {
     "name": "stdout",
     "output_type": "stream",
     "text": [
      "Iter    X1          X2          X3         f(X)     \n",
      "   1    1.022987    1.057849    1.134862    0.041767\n",
      "   2    1.022371    1.058610    1.134477    0.040907\n",
      "   3    1.012026    1.031387    1.070837    0.011310\n",
      "   4    0.997529    0.996771    0.993285    0.000315\n",
      "   5    0.997469    0.995079    0.990240    0.000033\n",
      "   6    0.998048    0.996186    0.992605    0.000024\n",
      "   7    0.998769    0.997551    0.995328    0.000012\n",
      "   8    0.999992    0.999948    0.999974    0.000001\n",
      "   9    1.000043    1.000076    1.000170    0.000000\n",
      "  10    1.000001    1.000003    1.000006    0.000000\n",
      "  11    1.000000    1.000001    1.000001    0.000000\n",
      "  12    1.000000    0.999999    0.999998    0.000000\n",
      "Warning: Desired error not necessarily achieved due to precision loss.\n",
      "         Current function value: 0.000000\n",
      "         Iterations: 12\n",
      "         Function evaluations: 248\n",
      "         Gradient evaluations: 59\n"
     ]
    }
   ],
   "source": [
    "import numpy as np\n",
    "from scipy.optimize import fmin_bfgs\n",
    "\n",
    "Nfeval = 1\n",
    "\n",
    "def rosen(X): #Rosenbrock function\n",
    "    return (1.0 - X[0])**2 + 100.0 * (X[1] - X[0]**2)**2 +  (1.0 - X[1])**2 + 100.0 * (X[2] - X[1]**2)**2\n",
    "\n",
    "def callbackF(Xi):\n",
    "    global Nfeval\n",
    "    print( '{0:4d}   {1: 3.6f}   {2: 3.6f}   {3: 3.6f}   {4: 3.6f}'.format(Nfeval, Xi[0], Xi[1], Xi[2], rosen(Xi)))\n",
    "    Nfeval += 1\n",
    "\n",
    "print(  '{0:4s}   {1:9s}   {2:9s}   {3:9s}   {4:9s}'.format('Iter', ' X1', ' X2', ' X3', 'f(X)')   )\n",
    "x0 = np.array([1.1, 1.1, 1.1], dtype=np.double)\n",
    "[xopt, fopt, gopt, Bopt, func_calls, grad_calls, warnflg] = fmin_bfgs(rosen, \n",
    "              x0, \n",
    "              callback=callbackF, \n",
    "              maxiter=2000, \n",
    "              full_output=True, \n",
    "              retall=False)"
   ]
  },
  {
   "cell_type": "code",
   "execution_count": 13,
   "id": "3eb47751",
   "metadata": {},
   "outputs": [
    {
     "data": {
      "text/plain": [
       "False"
      ]
     },
     "execution_count": 13,
     "metadata": {},
     "output_type": "execute_result"
    }
   ],
   "source": [
    "a = [ 3.89696673,  2.20540508,  0.64504837, -1.07091223,  2.55096499,\n",
    "        1.39814795,  1.85953268,  0.52318215,  4.09826428, -0.3566539 ,\n",
    "       -0.3638739 ,  0.70399318, -1.02957997,  2.87884982,  2.65366302,\n",
    "       -1.52469188,  3.81692183,  1.98273574]\n",
    "\n",
    "b = [-0.6129952 ,  0.91343736,  2.30011879, -0.5474729 , -0.3058866 ,\n",
    "       -1.91686297, -0.18281124,  2.46131712, -0.11995136,  2.97956255,\n",
    "       -0.43068419, -0.04334279,  1.33966892, -0.49572476,  1.24473979,\n",
    "        2.59874446, -0.66356334, -1.60404746]\n",
    "\n",
    "a==b"
   ]
  },
  {
   "cell_type": "code",
   "execution_count": null,
   "id": "50d61d33",
   "metadata": {},
   "outputs": [],
   "source": []
  },
  {
   "cell_type": "code",
   "execution_count": 15,
   "id": "7d51e6b4",
   "metadata": {},
   "outputs": [
    {
     "data": {
      "image/png": "[encoded data removed]",
      "text/plain": [
       "<Figure size 432x288 with 2 Axes>"
      ]
     },
     "metadata": {
      "needs_background": "light"
     },
     "output_type": "display_data"
    }
   ],
   "source": [
    "import matplotlib.pyplot as plt\n",
    "\n",
    "fig = plt.figure()\n",
    "\n",
    "plt.plot(counts[i], values[i])\n",
    "plt.ylabel(\"Conformation Energy\")\n",
    "plt.xlabel(\"VQE Iterations\")\n",
    "\n",
    "fig.add_axes([0.44, 0.51, 0.44, 0.32])\n",
    "\n",
    "plt.plot(counts[40:], values[40:])\n",
    "plt.ylabel(\"Conformation Energy\")\n",
    "plt.xlabel(\"VQE Iterations\")\n",
    "plt.show()"
   ]
  },
  {
   "cell_type": "markdown",
   "id": "002b5c74",
   "metadata": {},
   "source": [
    "### Visualizing the answer"
   ]
  },
  {
   "cell_type": "markdown",
   "id": "2e2b6b22",
   "metadata": {},
   "source": [
    "In order to reduce computational costs, we have reduced the problem's qubit operator to the minimum amount of qubits needed to represent the shape of the protein. In order to decode the answer we need to understand how this has been done.\n",
    "* The shape of the protein has been encoded by a sequence of turns , $\\{0,1,2,3\\}$. Each turn represents a different direction in the lattice.\n",
    "* For a main bead of $N_{aminoacids}$ in a lattice, we need $N_{aminoacids}-1$ turns in order to represent its shape. However, the orientation of the protein is not relevant to its energy. Therefore the first two turns of the shape can be set to $[1,0]$ without loss of generality.\n",
    "* If the second bead does not have any side chain, we can also set the $6^{th}$ qubit to $[1]$ without breaking symmetry.\n",
    "* Since the length of the secondary chains is always limited to $1$ we only need one turn to describe the shape of the chain.\n",
    "\n",
    "The total amount of qubits we need to represent the shape of the protein will be $2(N_{aminoacids}-3)$ if there is a secondary chain coming out of the second bead or $2(N_{aminoacids}-3) - 1$, otherwise. All the other qubits will remain unused during the optimization process. See:"
   ]
  },
  {
   "cell_type": "code",
   "execution_count": 16,
   "id": "49a65992",
   "metadata": {},
   "outputs": [
    {
     "ename": "SyntaxError",
     "evalue": "invalid syntax (532713642.py, line 1)",
     "output_type": "error",
     "traceback": [
      "\u001b[0;36m  File \u001b[0;32m\"/tmp/ipykernel_30682/532713642.py\"\u001b[0;36m, line \u001b[0;32m1\u001b[0m\n\u001b[0;31m    result = protein_folding_problem.interpret(raw_result=raw_result[])\u001b[0m\n\u001b[0m                                                                     ^\u001b[0m\n\u001b[0;31mSyntaxError\u001b[0m\u001b[0;31m:\u001b[0m invalid syntax\n"
     ]
    }
   ],
   "source": [
    "result = protein_folding_problem.interpret(raw_result=raw_result[])\n",
    "print(\n",
    "    \"The bitstring representing the shape of the protein during optimization is: \",\n",
    "    result.turn_sequence,\n",
    ")\n",
    "print(\"The expanded expression is:\", result.get_result_binary_vector())"
   ]
  },
  {
   "cell_type": "markdown",
   "id": "19578a0c",
   "metadata": {},
   "source": [
    "Now that we know which qubits encode which information, we can decode the bitstring into the explicit turns that form the shape of the protein."
   ]
  },
  {
   "cell_type": "code",
   "execution_count": null,
   "id": "f377810d",
   "metadata": {},
   "outputs": [],
   "source": [
    "print(f\"The folded protein's main sequence of turns is: {result.protein_shape_decoder.main_turns}\")\n",
    "print(f\"and the side turn sequences are: {result.protein_shape_decoder.side_turns}\")"
   ]
  },
  {
   "cell_type": "markdown",
   "id": "de27cfcd",
   "metadata": {},
   "source": [
    "From this sequence of turns we can get the cartesian coordinates of each of the aminoacids of the protein."
   ]
  },
  {
   "cell_type": "code",
   "execution_count": null,
   "id": "39402e34",
   "metadata": {},
   "outputs": [],
   "source": [
    "print(result.protein_shape_file_gen.get_xyz_data())"
   ]
  },
  {
   "cell_type": "markdown",
   "id": "d54c6272",
   "metadata": {},
   "source": [
    "And finally, we can also plot the structure of the protein in 3D. Note that when rendered with the proper backend this plot can be interactively rotated."
   ]
  },
  {
   "cell_type": "code",
   "execution_count": null,
   "id": "a40f8c41",
   "metadata": {},
   "outputs": [],
   "source": [
    "fig = result.get_figure(title=\"Protein Structure\", ticks=False, grid=True)\n",
    "fig.get_axes()[0].view_init(10, 70)"
   ]
  },
  {
   "cell_type": "markdown",
   "id": "0675bdcc",
   "metadata": {},
   "source": [
    "And here is an example with side chains."
   ]
  },
  {
   "cell_type": "code",
   "execution_count": null,
   "id": "105a473a",
   "metadata": {},
   "outputs": [],
   "source": [
    "peptide = Peptide(\"APRLR\", [\"\", \"\", \"F\", \"Y\", \"\"])\n",
    "protein_folding_problem = ProteinFoldingProblem(peptide, mj_interaction, penalty_terms)\n",
    "qubit_op = protein_folding_problem.qubit_op()\n",
    "raw_result = vqe.compute_minimum_eigenvalue(qubit_op)\n",
    "result_2 = protein_folding_problem.interpret(raw_result=raw_result)"
   ]
  },
  {
   "cell_type": "code",
   "execution_count": null,
   "id": "4b0aa85e",
   "metadata": {},
   "outputs": [],
   "source": [
    "fig = result_2.get_figure(title=\"Protein Structure\", ticks=False, grid=True)\n",
    "fig.get_axes()[0].view_init(10, 60)"
   ]
  },
  {
   "cell_type": "markdown",
   "id": "3000495a",
   "metadata": {},
   "source": [
    "### References"
   ]
  },
  {
   "cell_type": "markdown",
   "id": "c835b123",
   "metadata": {},
   "source": [
    "<font size='2'>[1] https://en.wikipedia.org/wiki/Levinthal%27s_paradox </font>\n",
    "\n",
    "<font size='2'>[2] A.Robert, P.Barkoutsos, S.Woerner and I.Tavernelli, Resource-efficient quantum algorithm for protein folding, NPJ Quantum Information, 2021, https://doi.org/10.1038/s41534-021-00368-4 </font>\n",
    "\n",
    "<font size=\"2\">[3] IUPAC–IUB Commission on Biochemical Nomenclature (1972). \"A one-letter notation for aminoacid sequences\". Pure and Applied Chemistry. 31 (4): 641–645. doi:10.1351/pac197231040639. PMID 5080161.</font> <br>\n",
    "\n",
    "<font size=\"2\">[4] https://en.wikipedia.org/wiki/Amino_acid</font>\n",
    "\n",
    "<font size=\"2\"> [5] S. Miyazawa and R. L.Jernigan, Residue – Residue Potentials with a Favorable Contact Pair Term and an Unfavorable High Packing Density Term for Simulation and Threading, J. Mol. Biol.256, 623–644, 1996, Table 3, https://doi.org/10.1006/jmbi.1996.0114 </font>\n",
    "\n",
    "<font size=\"2\"> [6] P.Barkoutsos, G. Nannichini, A.Robert, I.Tavernelli, S.Woerner, Improving Variational Quantum Optimization using CVaR, Quantum 4, 256, 2020, https://doi.org/10.22331/q-2020-04-20-256  </font>"
   ]
  },
  {
   "cell_type": "code",
   "execution_count": null,
   "id": "8f7e04a1",
   "metadata": {},
   "outputs": [],
   "source": [
    "import qiskit.tools.jupyter\n",
    "\n",
    "%qiskit_version_table\n",
    "%qiskit_copyright"
   ]
  },
  {
   "cell_type": "code",
   "execution_count": null,
   "id": "476bcd4b",
   "metadata": {},
   "outputs": [],
   "source": []
  }
 ],
 "metadata": {
  "kernelspec": {
   "display_name": "Python 3.7.11 ('base')",
   "language": "python",
   "name": "python3"
  },
  "language_info": {
   "codemirror_mode": {
    "name": "ipython",
    "version": 3
   },
   "file_extension": ".py",
   "mimetype": "text/x-python",
   "name": "python",
   "nbconvert_exporter": "python",
   "pygments_lexer": "ipython3",
   "version": "3.7.11"
  },
  "vscode": {
   "interpreter": {
    "hash": "90d5c41eb45eb849656fefa1221164c04677d50e08280b513235ecd5e813af04"
   }
  }
 },
 "nbformat": 4,
 "nbformat_minor": 5
}
