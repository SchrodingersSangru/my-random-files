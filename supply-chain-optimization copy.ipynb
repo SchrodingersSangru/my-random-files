{
 "cells": [
  {
   "cell_type": "code",
   "execution_count": 7,
   "id": "931848cb",
   "metadata": {
    "_cell_guid": "b1076dfc-b9ad-4769-8c92-a6c4dae69d19",
    "_uuid": "8f2839f25d086af736a60e9eeb907d3b93b6e0e5",
    "execution": {
     "iopub.execute_input": "2022-08-10T15:12:07.531617Z",
     "iopub.status.busy": "2022-08-10T15:12:07.530578Z",
     "iopub.status.idle": "2022-08-10T15:12:07.555184Z",
     "shell.execute_reply": "2022-08-10T15:12:07.553992Z"
    },
    "papermill": {
     "duration": 0.040033,
     "end_time": "2022-08-10T15:12:07.558096",
     "exception": false,
     "start_time": "2022-08-10T15:12:07.518063",
     "status": "completed"
    },
    "tags": []
   },
   "outputs": [],
   "source": [
    "import numpy as np\n",
    "import pylab\n",
    "\n",
    "from qiskit import Aer\n",
    "from qiskit.opflow import X, Z, I\n",
    "from qiskit.utils import QuantumInstance, algorithm_globals\n",
    "from qiskit.algorithms import VQE, NumPyMinimumEigensolver\n",
    "from qiskit.algorithms.optimizers import COBYLA, L_BFGS_B, SLSQP\n",
    "from qiskit.circuit.library import TwoLocal"
   ]
  },
  {
   "cell_type": "markdown",
   "id": "eca4e32c",
   "metadata": {
    "papermill": {
     "duration": 0.008591,
     "end_time": "2022-08-10T15:12:07.575946",
     "exception": false,
     "start_time": "2022-08-10T15:12:07.567355",
     "status": "completed"
    },
    "tags": []
   },
   "source": [
    "# Supply Chain Optimization using PULP"
   ]
  },
  {
   "cell_type": "code",
   "execution_count": 8,
   "id": "bc6eb1c4",
   "metadata": {
    "execution": {
     "iopub.execute_input": "2022-08-10T15:12:07.595493Z",
     "iopub.status.busy": "2022-08-10T15:12:07.594789Z",
     "iopub.status.idle": "2022-08-10T15:12:21.472075Z",
     "shell.execute_reply": "2022-08-10T15:12:21.470504Z"
    },
    "papermill": {
     "duration": 13.890243,
     "end_time": "2022-08-10T15:12:21.475037",
     "exception": false,
     "start_time": "2022-08-10T15:12:07.584794",
     "status": "completed"
    },
    "tags": []
   },
   "outputs": [],
   "source": [
    "H2_op = (-1.052373245772859 * I ^ I) + \\\n",
    "        (0.39793742484318045 * I ^ Z) + \\\n",
    "        (-0.39793742484318045 * Z ^ I) + \\\n",
    "        (-0.01128010425623538 * Z ^ Z) + \\\n",
    "        (0.18093119978423156 * X ^ X)"
   ]
  },
  {
   "cell_type": "code",
   "execution_count": 9,
   "id": "6961e3df",
   "metadata": {
    "execution": {
     "iopub.execute_input": "2022-08-10T15:12:21.496139Z",
     "iopub.status.busy": "2022-08-10T15:12:21.494867Z",
     "iopub.status.idle": "2022-08-10T15:12:24.431683Z",
     "shell.execute_reply": "2022-08-10T15:12:24.430344Z"
    },
    "papermill": {
     "duration": 2.950641,
     "end_time": "2022-08-10T15:12:24.434949",
     "exception": false,
     "start_time": "2022-08-10T15:12:21.484308",
     "status": "completed"
    },
    "tags": []
   },
   "outputs": [
    {
     "name": "stdout",
     "output_type": "stream",
     "text": [
      "Optimizer: COBYLA        0\n",
      "Optimization complete      \n"
     ]
    }
   ],
   "source": [
    "from ssl import Options\n",
    "\n",
    "\n",
    "optimizers = [COBYLA(maxiter=80, options = {'disp': True})]\n",
    "converge_cnts = np.empty([len(optimizers)], dtype=object)\n",
    "converge_vals = np.empty([len(optimizers)], dtype=object)\n",
    "\n",
    "for i, optimizer in enumerate(optimizers):\n",
    "    print('\\rOptimizer: {}        '.format(type(optimizer).__name__), end='')\n",
    "    algorithm_globals.random_seed = 50\n",
    "    ansatz = TwoLocal(rotation_blocks='ry', entanglement_blocks='cz')\n",
    "\n",
    "    counts = []\n",
    "    values = []\n",
    "    def store_intermediate_result(eval_count, parameters, mean, std):\n",
    "        counts.append(eval_count)\n",
    "        values.append(mean)\n",
    "\n",
    "    vqe = VQE(ansatz, optimizer, callback=store_intermediate_result,\n",
    "              quantum_instance=QuantumInstance(backend=Aer.get_backend('statevector_simulator')))\n",
    "    result = vqe.compute_minimum_eigenvalue(operator=H2_op)\n",
    "    converge_cnts[i] = np.asarray(counts)\n",
    "    converge_vals[i] = np.asarray(values)\n",
    "    print(i)\n",
    "print('\\rOptimization complete      ');"
   ]
  },
  {
   "cell_type": "code",
   "execution_count": 4,
   "id": "1b473d48",
   "metadata": {},
   "outputs": [
    {
     "name": "stdout",
     "output_type": "stream",
     "text": [
      "\n",
      "   (-0.24274501260998166) [Z2]\n",
      "+ (-0.24274501260998166) [Z3]\n",
      "+ (-0.04207255194693649) [I0]\n",
      "+ (0.17771358229057072) [Z1]\n",
      "+ (0.17771358229057083) [Z0]\n",
      "+ (0.12293330449316843) [Z0 Z2]\n",
      "+ (0.12293330449316843) [Z1 Z3]\n",
      "+ (0.167683388556252) [Z0 Z3]\n",
      "+ (0.167683388556252) [Z1 Z2]\n",
      "+ (0.17059759276844427) [Z0 Z1]\n",
      "+ (0.17627661394224092) [Z2 Z3]\n",
      "+ (-0.04475008406308357) [Y0 Y1 X2 X3]\n",
      "+ (-0.04475008406308357) [X0 X1 Y2 Y3]\n",
      "+ (0.04475008406308357) [Y0 X1 X2 Y3]\n",
      "+ (0.04475008406308357) [X0 Y1 Y2 X3] \n",
      "\n"
     ]
    },
    {
     "ename": "TypeError",
     "evalue": "'method' object is not subscriptable",
     "output_type": "error",
     "traceback": [
      "\u001b[0;31m---------------------------------------------------------------------------\u001b[0m",
      "\u001b[0;31mTypeError\u001b[0m                                 Traceback (most recent call last)",
      "\u001b[0;32m/tmp/ipykernel_12098/1567515448.py\u001b[0m in \u001b[0;36m<module>\u001b[0;34m\u001b[0m\n\u001b[1;32m     45\u001b[0m         \u001b[0;32mreturn\u001b[0m \u001b[0mE\u001b[0m\u001b[0;34m\u001b[0m\u001b[0;34m\u001b[0m\u001b[0m\n\u001b[1;32m     46\u001b[0m \u001b[0mprint\u001b[0m\u001b[0;34m(\u001b[0m\u001b[0;34m\"\\n\"\u001b[0m\u001b[0;34m,\u001b[0m \u001b[0mh2_ham\u001b[0m\u001b[0;34m,\u001b[0m \u001b[0;34m\"\\n\"\u001b[0m\u001b[0;34m)\u001b[0m\u001b[0;34m\u001b[0m\u001b[0;34m\u001b[0m\u001b[0m\n\u001b[0;32m---> 47\u001b[0;31m \u001b[0mgroupings\u001b[0m\u001b[0;34m,\u001b[0m \u001b[0mcoeffs\u001b[0m \u001b[0;34m=\u001b[0m \u001b[0mqml\u001b[0m\u001b[0;34m.\u001b[0m\u001b[0mgrouping\u001b[0m\u001b[0;34m.\u001b[0m\u001b[0mgroup_observables\u001b[0m\u001b[0;34m(\u001b[0m\u001b[0mh2_ham\u001b[0m\u001b[0;34m.\u001b[0m\u001b[0mterms\u001b[0m\u001b[0;34m[\u001b[0m\u001b[0;36m1\u001b[0m\u001b[0;34m]\u001b[0m\u001b[0;34m,\u001b[0m \u001b[0mh2_ham\u001b[0m\u001b[0;34m.\u001b[0m\u001b[0mterms\u001b[0m\u001b[0;34m[\u001b[0m\u001b[0;36m0\u001b[0m\u001b[0;34m]\u001b[0m\u001b[0;34m,\u001b[0m \u001b[0mgrouping_type\u001b[0m \u001b[0;34m=\u001b[0m \u001b[0;34m'qwc'\u001b[0m\u001b[0;34m,\u001b[0m \u001b[0mmethod\u001b[0m \u001b[0;34m=\u001b[0m \u001b[0;34m'rlf'\u001b[0m\u001b[0;34m)\u001b[0m\u001b[0;34m\u001b[0m\u001b[0;34m\u001b[0m\u001b[0m\n\u001b[0m\u001b[1;32m     48\u001b[0m \u001b[0mparam_shape\u001b[0m \u001b[0;34m=\u001b[0m \u001b[0mqml\u001b[0m\u001b[0;34m.\u001b[0m\u001b[0mtemplates\u001b[0m\u001b[0;34m.\u001b[0m\u001b[0mStronglyEntanglingLayers\u001b[0m\u001b[0;34m.\u001b[0m\u001b[0mshape\u001b[0m\u001b[0;34m(\u001b[0m\u001b[0mn_layers\u001b[0m\u001b[0;34m=\u001b[0m\u001b[0;36m3\u001b[0m\u001b[0;34m,\u001b[0m \u001b[0mn_wires\u001b[0m\u001b[0;34m=\u001b[0m\u001b[0mn_qubits\u001b[0m\u001b[0;34m)\u001b[0m\u001b[0;34m\u001b[0m\u001b[0;34m\u001b[0m\u001b[0m\n\u001b[1;32m     49\u001b[0m \u001b[0mparams\u001b[0m \u001b[0;34m=\u001b[0m \u001b[0mnp\u001b[0m\u001b[0;34m.\u001b[0m\u001b[0mrandom\u001b[0m\u001b[0;34m.\u001b[0m\u001b[0mnormal\u001b[0m\u001b[0;34m(\u001b[0m\u001b[0mscale\u001b[0m\u001b[0;34m=\u001b[0m\u001b[0;36m0.1\u001b[0m\u001b[0;34m,\u001b[0m \u001b[0msize\u001b[0m\u001b[0;34m=\u001b[0m\u001b[0mparam_shape\u001b[0m\u001b[0;34m)\u001b[0m\u001b[0;34m\u001b[0m\u001b[0;34m\u001b[0m\u001b[0m\n",
      "\u001b[0;31mTypeError\u001b[0m: 'method' object is not subscriptable"
     ]
    }
   ],
   "source": [
    "import pennylane as qml\n",
    "from pennylane import qchem\n",
    "import numpy as np\n",
    "\n",
    "symbols = [\"H\", \"H\"]\n",
    "coordinates = np.array([0.0, 0.0, -0.6614, 0.0, 0.0, 0.6614])\n",
    "h2_ham, n_qubits = qchem.molecular_hamiltonian(symbols, coordinates)\n",
    "n_shots = 1000\n",
    "\n",
    "dev_noisy = qml.device('default.qubit', wires = n_qubits, shots = n_shots)\n",
    "\n",
    "@qml.qnode(dev_noisy)\n",
    "def VQE_circuit(params, group = None, n_qubits = None):\n",
    "        qml.StronglyEntanglingLayers(params, wires = range(n_qubits))\n",
    "        rotations = qml.grouping.diagonalize_qwc_pauli_words(group)[0]\n",
    "        return qml.probs(wires=range(n_qubits))\n",
    "\n",
    "\n",
    "# import autograd.numpy as agnp\n",
    "drawer = qml.draw(VQE_circuit)\n",
    "\n",
    "def exp_val(results, coeffs, groupings):\n",
    "        E = 0\n",
    "        for i, result in enumerate(results):\n",
    "                #Process each list of counts (probs)\n",
    "                ops = groupings[i]\n",
    "                coeff_list = coeffs[i]\n",
    "                #print(drawer(params, group = groupings[i], n_qubits = n_qubits))\n",
    "                for op_idx, op in enumerate(ops):\n",
    "                        ##calculate expval for each operator in group\n",
    "                        if op.name == 'Identity':\n",
    "                                E += coeff_list[op_idx]\n",
    "                        else:\n",
    "                                exp_val = 0\n",
    "                                for c_idx, count in enumerate(result):\n",
    "                                        #process bitstring in result\n",
    "                                        idxs = op.wires.toarray()\n",
    "                                        bits = format(c_idx, \"b\").zfill(n_qubits)\n",
    "                                        sub_bits = [bits[i] for i in idxs]\n",
    "                                        par = sub_bits.count('1')%2\n",
    "                                        sign = (-1)**par\n",
    "                                        exp_val += sign*count\n",
    "                                exp_val *= coeff_list[op_idx]\n",
    "                                E += exp_val\n",
    "        return E\n",
    "print(\"\\n\", h2_ham, \"\\n\")\n",
    "groupings, coeffs = qml.grouping.group_observables(h2_ham.terms[1], h2_ham.terms[0], grouping_type = 'qwc', method = 'rlf')\n",
    "param_shape = qml.templates.StronglyEntanglingLayers.shape(n_layers=3, n_wires=n_qubits)\n",
    "params = np.random.normal(scale=0.1, size=param_shape)\n",
    "results = [VQE_circuit(params, group = group, n_qubits = n_qubits) for group in groupings]\n",
    "print(exp_val(results, coeffs, groupings))\n",
    "\n",
    "\n",
    "##VQE execution:\n",
    "def naive_cost(params):\n",
    "    results = [VQE_circuit(params, group = group, n_qubits = n_qubits) for group in groupings]\n",
    "    return exp_val(results, coeffs, groupings)    \n",
    "sparse = qml.utils.sparse_hamiltonian(h2_ham).toarray()\n",
    "gs_E = np.linalg.eigvalsh(sparse)[0]\n",
    "print(\"GSE: \", gs_E)\n",
    "import scipy.optimize as opt\n",
    "param_shape = qml.templates.StronglyEntanglingLayers.shape(n_layers=5, n_wires=n_qubits)\n",
    "params = np.random.normal(scale=0.1, size=param_shape)\n",
    "opt = qml.AdagradOptimizer(0.05)\n",
    "\n",
    "max_iteration = 100\n",
    "conv_tol = 1e-6\n",
    "energy = [naive_cost(params)]\n",
    "for n in range(max_iteration):\n",
    "        params, prev_E = opt.step_and_cost(naive_cost, params)\n",
    "        energy.append(naive_cost(params))\n",
    "        conv = np.abs(energy[-1]-prev_E)\n",
    "        if n % 2 == 0:\n",
    "                print(f\"Step = {n},  Energy = {energy[-1]:.8f} Ha\")\n",
    "\n",
    "        if conv <= conv_tol:\n",
    "                break\n",
    "#print(energy)\n",
    "print(\"FOUND GROUND STATE E: \", np.min(energy))\n",
    "print(\"FINAL params: \", params)\n",
    "print(\"REAL GROUND STATE E: \", gs_E)"
   ]
  },
  {
   "cell_type": "code",
   "execution_count": 5,
   "id": "2b96c0d7",
   "metadata": {},
   "outputs": [
    {
     "ename": "ModuleNotFoundError",
     "evalue": "No module named 'pennylane.measure'",
     "output_type": "error",
     "traceback": [
      "\u001b[0;31m---------------------------------------------------------------------------\u001b[0m",
      "\u001b[0;31mModuleNotFoundError\u001b[0m                       Traceback (most recent call last)",
      "\u001b[0;32m/tmp/ipykernel_12098/2806441944.py\u001b[0m in \u001b[0;36m<module>\u001b[0;34m\u001b[0m\n\u001b[1;32m      4\u001b[0m \u001b[0;32mimport\u001b[0m \u001b[0mnumpy\u001b[0m \u001b[0;32mas\u001b[0m \u001b[0mnp\u001b[0m\u001b[0;34m\u001b[0m\u001b[0;34m\u001b[0m\u001b[0m\n\u001b[1;32m      5\u001b[0m \u001b[0;32mfrom\u001b[0m \u001b[0mfunctools\u001b[0m \u001b[0;32mimport\u001b[0m \u001b[0mpartial\u001b[0m\u001b[0;34m\u001b[0m\u001b[0;34m\u001b[0m\u001b[0m\n\u001b[0;32m----> 6\u001b[0;31m \u001b[0;32mfrom\u001b[0m \u001b[0mpennylane\u001b[0m\u001b[0;34m.\u001b[0m\u001b[0mmeasure\u001b[0m \u001b[0;32mimport\u001b[0m \u001b[0mstate\u001b[0m\u001b[0;34m\u001b[0m\u001b[0;34m\u001b[0m\u001b[0m\n\u001b[0m\u001b[1;32m      7\u001b[0m \u001b[0;32mfrom\u001b[0m \u001b[0mpennylane\u001b[0m\u001b[0;34m.\u001b[0m\u001b[0mops\u001b[0m\u001b[0;34m.\u001b[0m\u001b[0mqubit\u001b[0m \u001b[0;32mimport\u001b[0m \u001b[0mobservables\u001b[0m\u001b[0;34m\u001b[0m\u001b[0;34m\u001b[0m\u001b[0m\n\u001b[1;32m      8\u001b[0m \u001b[0;32mfrom\u001b[0m \u001b[0mpennylane\u001b[0m\u001b[0;34m.\u001b[0m\u001b[0mtemplates\u001b[0m \u001b[0;32mimport\u001b[0m \u001b[0mUCCSD\u001b[0m\u001b[0;34m\u001b[0m\u001b[0;34m\u001b[0m\u001b[0m\n",
      "\u001b[0;31mModuleNotFoundError\u001b[0m: No module named 'pennylane.measure'"
     ]
    }
   ],
   "source": [
    "from openfermion.ops.operators.qubit_operator import QubitOperator\n",
    "import pennylane as qml\n",
    "from pennylane import qchem\n",
    "import numpy as np\n",
    "from functools import partial\n",
    "from pennylane.measure import state\n",
    "from pennylane.ops.qubit import observables\n",
    "from pennylane.templates import UCCSD\n",
    "import matplotlib.pyplot as plt\n",
    "\n",
    "symbols = [\"H\", \"H\"]\n",
    "coordinates = np.array([0.0, 0.0, -0.6614, 0.0, 0.0, 0.6614])\n",
    "h2_ham, n_qubits = qchem.molecular_hamiltonian(symbols, coordinates)\n",
    "n_electrons = 2\n",
    "singles, doubles = qchem.excitations(n_electrons, n_qubits)\n",
    "s_wires, d_wires = qchem.excitations_to_wires(singles, doubles)\n",
    "ref_state = qchem.hf_state(n_electrons, n_qubits)\n",
    "ansatz = partial(UCCSD, init_state = ref_state, s_wires = s_wires, d_wires = d_wires)\n",
    "groupings, coeffs = qml.grouping.group_observables(h2_ham.terms[1], h2_ham.terms[0], grouping_type = 'qwc', method = 'rlf')\n",
    "\n",
    "n_shots = 10000\n",
    "dev_noisy = qml.device('default.qubit', wires = n_qubits, shots = n_shots)\n",
    "\n",
    "sparse = qml.utils.sparse_hamiltonian(h2_ham).toarray()\n",
    "gs_E = np.linalg.eigvalsh(sparse)[0]\n",
    "\n",
    "print(\"GSE: \", gs_E)\n",
    "param_shape = qml.templates.StronglyEntanglingLayers.shape(n_layers=5, n_wires=n_qubits)\n",
    "params = np.random.normal(scale=0.1, size=param_shape)\n",
    "optimal_params = [[[0.15300575748799206, 0.0802866250748122, 0.6612327808749161],\n",
    "  [-0.012197292985330403, 1.0054708209216188, -0.5031298708940922],\n",
    "  [0.4871116388974964, 0.8755791036972337, 0.15300349217856668],\n",
    "  [0.2125674641016197, -0.3988028820299284, -0.5903810690276766]],\n",
    " [[-0.26227065702483116, 0.7762008921102848, 0.20421958031876591],\n",
    "  [-0.11210374173720475, -0.7158851608015426, -0.945090563307313],\n",
    "  [-0.20041447281024863, -0.43875447105339715, -0.10552844761324888],\n",
    "  [0.017868138476782234, -0.4067704016345291, 0.19911933547123295]],\n",
    " [[-0.1170885274951583, -0.40203947157121894, -0.44851762637470327],\n",
    "  [-0.2715291337140317, 0.6888494094283752, 0.5389027752311034],\n",
    "  [-0.5191082830999312, 0.4426962606005164, -0.25932474764548114],\n",
    "  [0.8138172470220708, -0.54678942509227, 0.4102491578027457]],\n",
    " [[0.7676993827422776, -0.47721469081406376, 0.6337393057184456],\n",
    "  [-0.6553402727229024, 0.8955375499127577, 0.5789282160827474],\n",
    "  [0.6570560582613835, -0.8518341967262695, -0.6023881439081624],\n",
    "  [0.040387149769954125, 0.3040045252649316, -0.38193967606295326]],\n",
    " [[0.42336490227621815, -0.3869902716443922, 0.27822533007353994],\n",
    "  [1.2170710775127433, 0.6959673154584948, -0.11538272838636159],\n",
    "  [0.33436903989516936, -0.7268804688737179, 0.49919014014531526],\n",
    "  [0.818911996077618, -0.6280017753881122, 0.553169606547251]]]\n",
    "\n",
    "cost = qml.ExpvalCost(qml.StronglyEntanglingLayers, h2_ham, dev_noisy, optimize=True)\n",
    "\n",
    "opt = qml.AdagradOptimizer(0.06)\n",
    "\n",
    "\n",
    "\n",
    "max_iteration = 100\n",
    "conv_tol = 1e-6\n",
    "energy = [cost(params)]\n",
    "for n in range(max_iteration):\n",
    "        params, prev_E = opt.step_and_cost(cost, params)\n",
    "        energy.append(cost(params))\n",
    "        conv = np.abs(energy[-1]-prev_E)\n",
    "        if n % 2 == 0:\n",
    "                print(f\"Step = {n},  Energy = {energy[-1]:.8f} Ha\")\n",
    "\n",
    "        if conv <= conv_tol:\n",
    "                break\n",
    "#print(energy)\n",
    "print(\"FOUND GROUND STATE E: \", np.min(energy))\n",
    "print(\"REAL GROUND STATE E: \", gs_E)\n"
   ]
  },
  {
   "cell_type": "code",
   "execution_count": null,
   "id": "7f233895",
   "metadata": {},
   "outputs": [],
   "source": []
  }
 ],
 "metadata": {
  "kernelspec": {
   "display_name": "Python 3.7.11 ('base')",
   "language": "python",
   "name": "python3"
  },
  "language_info": {
   "codemirror_mode": {
    "name": "ipython",
    "version": 3
   },
   "file_extension": ".py",
   "mimetype": "text/x-python",
   "name": "python",
   "nbconvert_exporter": "python",
   "pygments_lexer": "ipython3",
   "version": "3.7.11"
  },
  "papermill": {
   "default_parameters": {},
   "duration": 28.800547,
   "end_time": "2022-08-10T15:12:26.666191",
   "environment_variables": {},
   "exception": null,
   "input_path": "__notebook__.ipynb",
   "output_path": "__notebook__.ipynb",
   "parameters": {},
   "start_time": "2022-08-10T15:11:57.865644",
   "version": "2.3.4"
  },
  "vscode": {
   "interpreter": {
    "hash": "90d5c41eb45eb849656fefa1221164c04677d50e08280b513235ecd5e813af04"
   }
  }
 },
 "nbformat": 4,
 "nbformat_minor": 5
}
